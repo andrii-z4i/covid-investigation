{
 "cells": [
  {
   "cell_type": "code",
   "execution_count": 1,
   "id": "9883b4eb-4be7-4a01-875d-bcaa1c307b8f",
   "metadata": {},
   "outputs": [],
   "source": [
    "import pandas as pd\n",
    "data = pd.read_csv('data/all.csv')"
   ]
  },
  {
   "cell_type": "code",
   "execution_count": 11,
   "id": "0905a6e5-f0ab-4b2b-8e02-56d8e166c60a",
   "metadata": {},
   "outputs": [],
   "source": [
    "p = data.values"
   ]
  },
  {
   "cell_type": "code",
   "execution_count": 41,
   "id": "14e2111b-9e00-425a-b0e6-b9290ad77a0f",
   "metadata": {},
   "outputs": [],
   "source": [
    "males = [] # age => count\n",
    "for row in p:\n",
    "    if row[2] == 'M':\n",
    "        males.append(row[1])\n",
    "\n",
    "females = [] # age => count\n",
    "for row in p:\n",
    "    if row[2] == 'Z':\n",
    "        females.append(row[1])"
   ]
  },
  {
   "cell_type": "code",
   "execution_count": 43,
   "id": "8985641b-6220-4b23-b322-390f4d31b6e7",
   "metadata": {},
   "outputs": [
    {
     "data": {
      "text/plain": [
       "(869485, 919226)"
      ]
     },
     "execution_count": 43,
     "metadata": {},
     "output_type": "execute_result"
    }
   ],
   "source": [
    "len(males), len(females)"
   ]
  },
  {
   "cell_type": "code",
   "execution_count": 34,
   "id": "c06d92a6-3ac7-4c78-a13f-debbc2456bab",
   "metadata": {},
   "outputs": [],
   "source": [
    "import matplotlib.pyplot as plt\n",
    "import numpy as np\n",
    "# if using a Jupyter notebook, includue:\n",
    "%matplotlib inline"
   ]
  },
  {
   "cell_type": "code",
   "execution_count": 47,
   "id": "b7a0dff8-22b0-4d99-bbb2-355a3f634116",
   "metadata": {},
   "outputs": [
    {
     "data": {
      "text/plain": [
       "(array([1.5664e+04, 2.9056e+04, 3.4857e+04, 3.7518e+04, 3.3839e+04,\n",
       "        3.7338e+04, 4.3622e+04, 5.3368e+04, 5.2871e+04, 5.4653e+04,\n",
       "        6.5181e+04, 7.3966e+04, 6.1860e+04, 5.2148e+04, 5.0446e+04,\n",
       "        4.1585e+04, 3.4767e+04, 2.9782e+04, 2.5084e+04, 1.7760e+04,\n",
       "        1.1030e+04, 6.8760e+03, 4.2410e+03, 1.5330e+03, 3.1500e+02,\n",
       "        7.4000e+01, 2.0000e+00, 1.0000e+00, 2.0000e+00, 2.0000e+00]),\n",
       " array([  0.,   4.,   8.,  12.,  16.,  20.,  24.,  28.,  32.,  36.,  40.,\n",
       "         44.,  48.,  52.,  56.,  60.,  64.,  68.,  72.,  76.,  80.,  84.,\n",
       "         88.,  92.,  96., 100., 104., 108., 112., 116., 120.]),\n",
       " <BarContainer object of 30 artists>)"
      ]
     },
     "execution_count": 47,
     "metadata": {},
     "output_type": "execute_result"
    },
    {
     "data": {
      "image/png": "[encoded data removed]",
      "text/plain": [
       "<Figure size 432x288 with 1 Axes>"
      ]
     },
     "metadata": {
      "needs_background": "light"
     },
     "output_type": "display_data"
    }
   ],
   "source": [
    "plt.hist(males, 30)"
   ]
  },
  {
   "cell_type": "code",
   "execution_count": 49,
   "id": "6593358b-5abf-4f1d-bf5a-f4d71b0ea699",
   "metadata": {},
   "outputs": [
    {
     "data": {
      "text/plain": [
       "(array([1.4722e+04, 2.7390e+04, 3.2934e+04, 3.6524e+04, 3.4315e+04,\n",
       "        3.6914e+04, 4.2366e+04, 5.0355e+04, 5.1815e+04, 5.7382e+04,\n",
       "        7.0911e+04, 8.2522e+04, 6.8751e+04, 5.7835e+04, 5.4815e+04,\n",
       "        3.9257e+04, 3.3547e+04, 3.0867e+04, 2.8680e+04, 2.2229e+04,\n",
       "        1.6467e+04, 1.2691e+04, 9.8120e+03, 4.5450e+03, 1.3880e+03,\n",
       "        1.4400e+02, 1.3000e+01, 2.0000e+00, 3.0000e+00, 2.0000e+00]),\n",
       " array([  0.,   4.,   8.,  12.,  16.,  20.,  24.,  28.,  32.,  36.,  40.,\n",
       "         44.,  48.,  52.,  56.,  60.,  64.,  68.,  72.,  76.,  80.,  84.,\n",
       "         88.,  92.,  96., 100., 104., 108., 112., 116., 120.]),\n",
       " <BarContainer object of 30 artists>)"
      ]
     },
     "execution_count": 49,
     "metadata": {},
     "output_type": "execute_result"
    },
    {
     "data": {
      "image/png": "[encoded data removed]",
      "text/plain": [
       "<Figure size 432x288 with 1 Axes>"
      ]
     },
     "metadata": {
      "needs_background": "light"
     },
     "output_type": "display_data"
    }
   ],
   "source": [
    "plt.hist(females, 30)"
   ]
  },
  {
   "cell_type": "code",
   "execution_count": null,
   "id": "5e413b7e-3e73-4099-b6fa-31b55b1be5be",
   "metadata": {},
   "outputs": [],
   "source": []
  }
 ],
 "metadata": {
  "kernelspec": {
   "display_name": "Python 3 (ipykernel)",
   "language": "python",
   "name": "python3"
  },
  "language_info": {
   "codemirror_mode": {
    "name": "ipython",
    "version": 3
   },
   "file_extension": ".py",
   "mimetype": "text/x-python",
   "name": "python",
   "nbconvert_exporter": "python",
   "pygments_lexer": "ipython3",
   "version": "3.9.5"
  }
 },
 "nbformat": 4,
 "nbformat_minor": 5
}
